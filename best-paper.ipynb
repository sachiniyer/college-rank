{
 "cells": [
  {
   "cell_type": "code",
   "execution_count": 2,
   "id": "9da39b14-62ff-47dd-9398-8f046033ae41",
   "metadata": {},
   "outputs": [],
   "source": [
    "from bs4 import BeautifulSoup\n",
    "import requests\n",
    "from pprint import pprint"
   ]
  },
  {
   "cell_type": "code",
   "execution_count": 12,
   "id": "cdd6f842-d6b4-4c53-9d97-89c3aef3ec7a",
   "metadata": {},
   "outputs": [],
   "source": [
    "url = 'https://jeffhuang.com/best_paper_awards/'\n",
    "page = requests.get(url)\n",
    "with open('best-paper.html', 'w', encoding=\"utf-8\") as f:\n",
    "    f.write(page.text)"
   ]
  },
  {
   "cell_type": "code",
   "execution_count": 13,
   "id": "d619d7ff-230c-4d9b-a539-f00a27db1e23",
   "metadata": {},
   "outputs": [
    {
     "name": "stderr",
     "output_type": "stream",
     "text": [
      "C:\\Users\\Aneesh\\AppData\\Local\\Temp\\ipykernel_17676\\3086072952.py:33: DeprecationWarning: The 'text' argument to find()-type methods is deprecated. Use 'string' instead.\n",
      "  first_author = authors_elem.find_next(text=True)\n"
     ]
    }
   ],
   "source": [
    "with open('best-paper.html', 'r', encoding=\"utf-8\") as f:\n",
    "    content = f.read()\n",
    "\n",
    "soup = BeautifulSoup(content, 'html.parser')\n",
    "\n",
    "tables_full = soup.find_all('table', attrs={'class': 'table'})\n",
    "\n",
    "def add_to_confs(confs, head, authors):\n",
    "    if head is not None:\n",
    "        conf = head.find('a').get_text()\n",
    "        area = head.find('span').get_text()\n",
    "        confs[conf] = (area, authors)\n",
    "    return confs\n",
    "\n",
    "tables = {}\n",
    "for t in tables_full:\n",
    "    year = t.get('id')\n",
    "    body = t.find('tbody')\n",
    "    rows = body.find_all('tr')\n",
    "    confs = {}\n",
    "    temp_head = None\n",
    "    temp_authors = []\n",
    "    for r in rows:\n",
    "        head = r.find('th', attrs={'class': 'category-name'})\n",
    "        if head is not None:\n",
    "            confs = add_to_confs(confs, temp_head, temp_authors)\n",
    "            temp_head = head\n",
    "            temp_authors = []\n",
    "        \n",
    "        authors_elem = r.find('td', attrs={'class': 'authors'})\n",
    "        new_authors = []\n",
    "        \n",
    "        first_author = authors_elem.find_next(text=True)\n",
    "        new_authors.append(first_author.strip())\n",
    "        \n",
    "        if authors_elem.find('div'):\n",
    "            authors_div_elem = authors_elem.find('div')\n",
    "        \n",
    "            for br_tag in authors_div_elem.find_all('br'):\n",
    "                br_tag.replace_with('\\n')\n",
    "            new_authors.extend([i.strip() for i in authors_div_elem.get_text().split('\\n')])\n",
    "        \n",
    "        temp_authors.append([i for i in new_authors if i.strip()])\n",
    "        \n",
    "    confs = add_to_confs(confs, temp_head, temp_authors)\n",
    "\n",
    "    tables[year] = confs"
   ]
  },
  {
   "cell_type": "code",
   "execution_count": 14,
   "id": "6dd105ec",
   "metadata": {},
   "outputs": [],
   "source": [
    "rows = []\n",
    "rows.append('Author|University|Conference|Area|Year|Coauthors')\n",
    "for year, confs in tables.items():\n",
    "    for conf, val in confs.items():\n",
    "        area = val[0]\n",
    "        authorset = val[1]\n",
    "        for authors in authorset:\n",
    "            authornum = len(authors)\n",
    "            for author in authors:\n",
    "                author_uni = author.split(\",\")\n",
    "                author = author_uni.pop(0).strip()\n",
    "                uni = ''.join(author_uni).strip()\n",
    "                row = f\"{author}|{uni}|{conf}|{area}|{year}|{authornum}\"\n",
    "                rows.append(row)"
   ]
  },
  {
   "cell_type": "code",
   "execution_count": 10,
   "id": "237c9264",
   "metadata": {},
   "outputs": [
    {
     "name": "stdout",
     "output_type": "stream",
     "text": [
      "Author|University|Conference|Area|Year|Coauthors\n",
      "Abhishek Bhattacharyya|University of WisconsinâMadison|ISCA| Architecture|2022|3\n",
      "Abhijith Somashekhar|Apple|ISCA| Architecture|2022|3\n",
      "Joshua San Miguel|University of WisconsinâMadison|ISCA| Architecture|2022|3\n",
      "Budmonde Duinkharjav|New York University|SIGGRAPH| Graphics|2022|5\n"
     ]
    }
   ],
   "source": [
    "for r in rows[0:5]:\n",
    "    print(r)"
   ]
  },
  {
   "cell_type": "code",
   "execution_count": 17,
   "id": "cd3cffe4",
   "metadata": {},
   "outputs": [],
   "source": [
    "with open('data/best-paper.csv', 'w', encoding=\"utf-8\") as file:\n",
    "    for item in rows:\n",
    "        file.write(item + '\\n')"
   ]
  },
  {
   "cell_type": "code",
   "execution_count": null,
   "id": "aa0b338a",
   "metadata": {},
   "outputs": [],
   "source": []
  }
 ],
 "metadata": {
  "kernelspec": {
   "display_name": "Python 3 (ipykernel)",
   "language": "python",
   "name": "python3"
  },
  "language_info": {
   "codemirror_mode": {
    "name": "ipython",
    "version": 3
   },
   "file_extension": ".py",
   "mimetype": "text/x-python",
   "name": "python",
   "nbconvert_exporter": "python",
   "pygments_lexer": "ipython3",
   "version": "3.11.4"
  },
  "name": "best-paper.ipynb"
 },
 "nbformat": 4,
 "nbformat_minor": 5
}
